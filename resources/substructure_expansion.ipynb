{
 "cells": [
  {
   "cell_type": "markdown",
   "id": "3cae5747-036b-4115-992e-a576beae21c1",
   "metadata": {},
   "source": [
    "# Expanding R-Group Substructures from P2M\n",
    "\n",
    "The Proteome2Metabolome (P2M) tool is useful in translating proteome identifiers into computer-friendly lists of associated metabolite compounds for the purpose of upstream compound identification. However, some queried metabolite structures are represented as R-group substructures of larger protein scaffolds or biomolecules.\n",
    "\n",
    "To expand the R-group containing substructures into potential full structures, users can process their P2M output as follows."
   ]
  },
  {
   "cell_type": "code",
   "execution_count": 7,
   "id": "277016b4-e582-426e-a7c8-3400df16cf20",
   "metadata": {},
   "outputs": [],
   "source": [
    "# import libraries\n",
    "import p2m\n",
    "import pandas as pd"
   ]
  },
  {
   "cell_type": "code",
   "execution_count": 8,
   "id": "049cac3e-9373-47ed-8607-1fddab08e503",
   "metadata": {},
   "outputs": [
    {
     "name": "stdout",
     "output_type": "stream",
     "text": [
      "360\n"
     ]
    },
    {
     "data": {
      "text/html": [
       "<div>\n",
       "<style scoped>\n",
       "    .dataframe tbody tr th:only-of-type {\n",
       "        vertical-align: middle;\n",
       "    }\n",
       "\n",
       "    .dataframe tbody tr th {\n",
       "        vertical-align: top;\n",
       "    }\n",
       "\n",
       "    .dataframe thead th {\n",
       "        text-align: right;\n",
       "    }\n",
       "</style>\n",
       "<table border=\"1\" class=\"dataframe\">\n",
       "  <thead>\n",
       "    <tr style=\"text-align: right;\">\n",
       "      <th></th>\n",
       "      <th>uniprot</th>\n",
       "      <th>identifier</th>\n",
       "      <th>chebiId</th>\n",
       "      <th>name</th>\n",
       "      <th>smiles</th>\n",
       "      <th>rheaIds</th>\n",
       "    </tr>\n",
       "  </thead>\n",
       "  <tbody>\n",
       "    <tr>\n",
       "      <th>0</th>\n",
       "      <td>http://purl.uniprot.org/uniprot/P0AGG4</td>\n",
       "      <td>P0AGG4</td>\n",
       "      <td>CHEBI:29950</td>\n",
       "      <td>[protein]-dithiol</td>\n",
       "      <td>C(=O)(*)[C@@H](N*)CS</td>\n",
       "      <td>18749,18749,18753,18753</td>\n",
       "    </tr>\n",
       "    <tr>\n",
       "      <th>1</th>\n",
       "      <td>http://purl.uniprot.org/uniprot/P0AGG4</td>\n",
       "      <td>P0AGG4</td>\n",
       "      <td>CHEBI:50058</td>\n",
       "      <td>[protein]-disulfide</td>\n",
       "      <td>C([C@@H](N*)CSSC[C@@H](C(=O)*)N*)(=O)*</td>\n",
       "      <td>18749,18753</td>\n",
       "    </tr>\n",
       "    <tr>\n",
       "      <th>2</th>\n",
       "      <td>http://purl.uniprot.org/uniprot/P68398</td>\n",
       "      <td>P68398</td>\n",
       "      <td>CHEBI:74411</td>\n",
       "      <td>adenosine(34) in tRNA</td>\n",
       "      <td>NC1=NC=NC2=C1N=CN2[C@@H]3O[C@H](COP(=O)(*)[O-]...</td>\n",
       "      <td>43168</td>\n",
       "    </tr>\n",
       "    <tr>\n",
       "      <th>3</th>\n",
       "      <td>http://purl.uniprot.org/uniprot/P68398</td>\n",
       "      <td>P68398</td>\n",
       "      <td>CHEBI:82852</td>\n",
       "      <td>inosine(34) in tRNA</td>\n",
       "      <td>O[C@@H]1[C@H](O-*)[C@@H](COP([O-])(-*)=O)O[C@H...</td>\n",
       "      <td>43168</td>\n",
       "    </tr>\n",
       "    <tr>\n",
       "      <th>4</th>\n",
       "      <td>http://purl.uniprot.org/uniprot/P0A9K9</td>\n",
       "      <td>P0A9K9</td>\n",
       "      <td>CHEBI:83834</td>\n",
       "      <td>[protein]-peptidylproline (omega=180)</td>\n",
       "      <td>*-C(=O)[C@@H]1CCCN1C(-*)=O</td>\n",
       "      <td>16237</td>\n",
       "    </tr>\n",
       "  </tbody>\n",
       "</table>\n",
       "</div>"
      ],
      "text/plain": [
       "                                  uniprot identifier      chebiId  \\\n",
       "0  http://purl.uniprot.org/uniprot/P0AGG4     P0AGG4  CHEBI:29950   \n",
       "1  http://purl.uniprot.org/uniprot/P0AGG4     P0AGG4  CHEBI:50058   \n",
       "2  http://purl.uniprot.org/uniprot/P68398     P68398  CHEBI:74411   \n",
       "3  http://purl.uniprot.org/uniprot/P68398     P68398  CHEBI:82852   \n",
       "4  http://purl.uniprot.org/uniprot/P0A9K9     P0A9K9  CHEBI:83834   \n",
       "\n",
       "                                    name  \\\n",
       "0                      [protein]-dithiol   \n",
       "1                    [protein]-disulfide   \n",
       "2                  adenosine(34) in tRNA   \n",
       "3                    inosine(34) in tRNA   \n",
       "4  [protein]-peptidylproline (omega=180)   \n",
       "\n",
       "                                              smiles                  rheaIds  \n",
       "0                               C(=O)(*)[C@@H](N*)CS  18749,18749,18753,18753  \n",
       "1             C([C@@H](N*)CSSC[C@@H](C(=O)*)N*)(=O)*              18749,18753  \n",
       "2  NC1=NC=NC2=C1N=CN2[C@@H]3O[C@H](COP(=O)(*)[O-]...                    43168  \n",
       "3  O[C@@H]1[C@H](O-*)[C@@H](COP([O-])(-*)=O)O[C@H...                    43168  \n",
       "4                         *-C(=O)[C@@H]1CCCN1C(-*)=O                    16237  "
      ]
     },
     "execution_count": 8,
     "metadata": {},
     "output_type": "execute_result"
    }
   ],
   "source": [
    "# load R-group structures (containing '*' wildcards)\n",
    "data = pd.read_csv(\"../data/example_run/p2m/partial/smiles_partial.tsv\", sep=\"\\t\")\n",
    "print(len(data))\n",
    "data.head()"
   ]
  },
  {
   "cell_type": "code",
   "execution_count": 12,
   "id": "7d374d51-9670-4cd2-89a9-1bd333386799",
   "metadata": {},
   "outputs": [
    {
     "name": "stdout",
     "output_type": "stream",
     "text": [
      "2609\n"
     ]
    },
    {
     "data": {
      "text/html": [
       "<div>\n",
       "<style scoped>\n",
       "    .dataframe tbody tr th:only-of-type {\n",
       "        vertical-align: middle;\n",
       "    }\n",
       "\n",
       "    .dataframe tbody tr th {\n",
       "        vertical-align: top;\n",
       "    }\n",
       "\n",
       "    .dataframe thead th {\n",
       "        text-align: right;\n",
       "    }\n",
       "</style>\n",
       "<table border=\"1\" class=\"dataframe\">\n",
       "  <thead>\n",
       "    <tr style=\"text-align: right;\">\n",
       "      <th></th>\n",
       "      <th>chebiId</th>\n",
       "      <th>name</th>\n",
       "      <th>smiles</th>\n",
       "    </tr>\n",
       "  </thead>\n",
       "  <tbody>\n",
       "    <tr>\n",
       "      <th>0</th>\n",
       "      <td>CHEBI:159602</td>\n",
       "      <td>Asn-Asp-Cys</td>\n",
       "      <td>SC[C@H](NC(=O)[C@@H](NC(=O)[C@@H](N)CC(=O)N)CC...</td>\n",
       "    </tr>\n",
       "    <tr>\n",
       "      <th>1</th>\n",
       "      <td>CHEBI:39390</td>\n",
       "      <td>felinine</td>\n",
       "      <td>CC(C)(CCO)SC[C@H](N)C(O)=O</td>\n",
       "    </tr>\n",
       "    <tr>\n",
       "      <th>2</th>\n",
       "      <td>CHEBI:53600</td>\n",
       "      <td>benzylpenicillanyl group</td>\n",
       "      <td>[H][C@]12SC(C)(C)[C@@H](N1C(=O)[C@H]2NC(=O)CC3...</td>\n",
       "    </tr>\n",
       "    <tr>\n",
       "      <th>3</th>\n",
       "      <td>CHEBI:135919</td>\n",
       "      <td>nesiritide</td>\n",
       "      <td>[H]N[C@@H](CO)C(N1CCC[C@H]1C(N[C@@H](CCCCN)C(N...</td>\n",
       "    </tr>\n",
       "    <tr>\n",
       "      <th>4</th>\n",
       "      <td>CHEBI:159670</td>\n",
       "      <td>Asn-Cys-Tyr</td>\n",
       "      <td>SC[C@H](NC(=O)[C@@H](N)CC(=O)N)C(=O)N[C@@H](CC...</td>\n",
       "    </tr>\n",
       "  </tbody>\n",
       "</table>\n",
       "</div>"
      ],
      "text/plain": [
       "        chebiId                      name  \\\n",
       "0  CHEBI:159602               Asn-Asp-Cys   \n",
       "1   CHEBI:39390                  felinine   \n",
       "2   CHEBI:53600  benzylpenicillanyl group   \n",
       "3  CHEBI:135919                nesiritide   \n",
       "4  CHEBI:159670               Asn-Cys-Tyr   \n",
       "\n",
       "                                              smiles  \n",
       "0  SC[C@H](NC(=O)[C@@H](NC(=O)[C@@H](N)CC(=O)N)CC...  \n",
       "1                         CC(C)(CCO)SC[C@H](N)C(O)=O  \n",
       "2  [H][C@]12SC(C)(C)[C@@H](N1C(=O)[C@H]2NC(=O)CC3...  \n",
       "3  [H]N[C@@H](CO)C(N1CCC[C@H]1C(N[C@@H](CCCCN)C(N...  \n",
       "4  SC[C@H](NC(=O)[C@@H](N)CC(=O)N)C(=O)N[C@@H](CC...  "
      ]
     },
     "execution_count": 12,
     "metadata": {},
     "output_type": "execute_result"
    }
   ],
   "source": [
    "# take first partial smiles\n",
    "i = 0\n",
    "smiles = data[\"smiles\"].values[i]\n",
    "\n",
    "result = p2m.query.substruct2struct(i)\n",
    "print(len(result))\n",
    "result.head()"
   ]
  },
  {
   "cell_type": "code",
   "execution_count": null,
   "id": "07cf6388-c790-418d-abd9-c870ddc72437",
   "metadata": {},
   "outputs": [],
   "source": []
  }
 ],
 "metadata": {
  "kernelspec": {
   "display_name": "p2m",
   "language": "python",
   "name": "p2m"
  },
  "language_info": {
   "codemirror_mode": {
    "name": "ipython",
    "version": 3
   },
   "file_extension": ".py",
   "mimetype": "text/x-python",
   "name": "python",
   "nbconvert_exporter": "python",
   "pygments_lexer": "ipython3",
   "version": "3.10.8"
  }
 },
 "nbformat": 4,
 "nbformat_minor": 5
}
